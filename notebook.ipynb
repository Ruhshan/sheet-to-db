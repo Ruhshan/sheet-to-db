{
 "cells": [
  {
   "cell_type": "code",
   "execution_count": 2,
   "id": "bdbc9b73",
   "metadata": {},
   "outputs": [],
   "source": [
    "import gspread\n",
    "from oauth2client.service_account import ServiceAccountCredentials\n",
    "import pandas as pd"
   ]
  },
  {
   "cell_type": "code",
   "execution_count": 3,
   "id": "617c26db",
   "metadata": {},
   "outputs": [],
   "source": [
    "# accessing google APIs\n",
    "scope = ['https://spreadsheets.google.com/feeds','https://www.googleapis.com/auth/drive']\n",
    "# credentials to access files and responses\n",
    "creds = ServiceAccountCredentials.from_json_keyfile_name(\"secrets.json\", scope)\n",
    "# connecting to a client\n",
    "client = gspread.authorize(creds)\n"
   ]
  },
  {
   "cell_type": "code",
   "execution_count": 6,
   "id": "b8662b65",
   "metadata": {},
   "outputs": [
    {
     "name": "stdout",
     "output_type": "stream",
     "text": [
      "Customer Feedback (Responses) 1Z8nQZ97DXhbOdoSuvY2mL6yT6UayQQ44HXeYcEVLfLY\n",
      "T-Shirt Sign Up (Responses) 1ppRxMKaEjhCPWsNBkH52MGAZ1Y5x0O4JjGz_Hl26VeA\n",
      "RSVP (Responses) 1WN5Zw8NyZK3CpQjSp6dLHvzDWRBmZC96w9DHOOT4SI4\n",
      "Party Invite (Responses) 1TD7GVp9QBp3V69AbgngS1qB6UUVN7ehCOV7V0A1tGCY\n",
      "Event Registration (Responses) 1t-nj4nQdP3d5lSuH8BG43Ifg7_-Gv0jkApK6BSsDLBQ\n"
     ]
    }
   ],
   "source": [
    "for ind, sheet in enumerate(client.openall()):\n",
    "    print(sheet.title, sheet.id)"
   ]
  },
  {
   "cell_type": "code",
   "execution_count": 172,
   "id": "7d7fae19",
   "metadata": {},
   "outputs": [],
   "source": [
    "new_rows = get_new_rows(\"Customer Feedback (Responses)\")"
   ]
  },
  {
   "cell_type": "code",
   "execution_count": 170,
   "id": "feaa9226",
   "metadata": {},
   "outputs": [
    {
     "data": {
      "text/html": [
       "<div>\n",
       "<style scoped>\n",
       "    .dataframe tbody tr th:only-of-type {\n",
       "        vertical-align: middle;\n",
       "    }\n",
       "\n",
       "    .dataframe tbody tr th {\n",
       "        vertical-align: top;\n",
       "    }\n",
       "\n",
       "    .dataframe thead th {\n",
       "        text-align: right;\n",
       "    }\n",
       "</style>\n",
       "<table border=\"1\" class=\"dataframe\">\n",
       "  <thead>\n",
       "    <tr style=\"text-align: right;\">\n",
       "      <th></th>\n",
       "      <th>Timestamp</th>\n",
       "      <th>Name</th>\n",
       "      <th>Email</th>\n",
       "      <th>Rating</th>\n",
       "      <th>Feedback</th>\n",
       "      <th>Suggestion for Improvement</th>\n",
       "    </tr>\n",
       "  </thead>\n",
       "  <tbody>\n",
       "    <tr>\n",
       "      <th>5</th>\n",
       "      <td>7/4/2021 20:05:00</td>\n",
       "      <td>Kyle</td>\n",
       "      <td>kyle@gmail.com</td>\n",
       "      <td>3</td>\n",
       "      <td>ok service</td>\n",
       "      <td>Fun</td>\n",
       "    </tr>\n",
       "  </tbody>\n",
       "</table>\n",
       "</div>"
      ],
      "text/plain": [
       "           Timestamp  Name           Email  Rating    Feedback  \\\n",
       "5  7/4/2021 20:05:00  Kyle  kyle@gmail.com       3  ok service   \n",
       "\n",
       "  Suggestion for Improvement  \n",
       "5                        Fun  "
      ]
     },
     "execution_count": 170,
     "metadata": {},
     "output_type": "execute_result"
    }
   ],
   "source": [
    "new_rows"
   ]
  },
  {
   "cell_type": "code",
   "execution_count": 159,
   "id": "9491e0e2",
   "metadata": {},
   "outputs": [],
   "source": [
    "def get_new_rows(sheet_name):\n",
    "    sh = client.open(sheet_name)\n",
    "    worksheet = sh.get_worksheet(0)\n",
    "    df = pd.DataFrame(worksheet.get_all_records())\n",
    "    worksheet_list = [ws.title for ws in sh.worksheets()]\n",
    "    if \"Marker\" not in worksheet_list:\n",
    "        sh.add_worksheet(title=\"Marker\", rows=\"4000\", cols=\"1000\")\n",
    "        marker_sheet = sh.worksheet(\"Marker\")\n",
    "        marker_sheet.update('A1', 'Processed')\n",
    "        return df\n",
    "    else:\n",
    "        marker=sh.worksheet(\"Marker\")\n",
    "        marker_df = pd.DataFrame(marker.get_all_records())\n",
    "        concatenated = pd.concat([df,marker_df],axis=1)\n",
    "        df = concatenated[concatenated[\"Processed\"]!=\"TRUE\"]\n",
    "        return df.drop(\"Processed\",axis=1)\n",
    "    "
   ]
  },
  {
   "cell_type": "code",
   "execution_count": 173,
   "id": "1d96173c",
   "metadata": {},
   "outputs": [],
   "source": [
    "mark_unmarked_rows(\"Customer Feedback (Responses)\")"
   ]
  },
  {
   "cell_type": "code",
   "execution_count": 167,
   "id": "f69d838c",
   "metadata": {},
   "outputs": [],
   "source": [
    "def mark_unmarked_rows(sheet_name):\n",
    "    sh = client.open(sheet_name)\n",
    "    worksheet = sh.get_worksheet(0)\n",
    "    df = pd.DataFrame(worksheet.get_all_records())\n",
    "    marker_sheet = sh.worksheet(\"Marker\")\n",
    "    max_rows = df.shape[0]\n",
    "    for i in range(2,max_rows+2):\n",
    "        marker_sheet.update(\"A{}\".format(i),\"TRUE\")\n",
    "    "
   ]
  },
  {
   "cell_type": "code",
   "execution_count": 79,
   "id": "361ab79b",
   "metadata": {},
   "outputs": [
    {
     "ename": "TypeError",
     "evalue": "can only concatenate str (not \"int\") to str",
     "output_type": "error",
     "traceback": [
      "\u001b[0;31m---------------------------------------------------------------------------\u001b[0m",
      "\u001b[0;31mTypeError\u001b[0m                                 Traceback (most recent call last)",
      "\u001b[0;32m/var/folders/tf/gfv_dm8s67751l39w_rcxfv80000gq/T/ipykernel_8058/2862555345.py\u001b[0m in \u001b[0;36m<module>\u001b[0;34m\u001b[0m\n\u001b[0;32m----> 1\u001b[0;31m \u001b[0;34m'A'\u001b[0m\u001b[0;34m+\u001b[0m\u001b[0;36m2\u001b[0m\u001b[0;34m\u001b[0m\u001b[0;34m\u001b[0m\u001b[0m\n\u001b[0m",
      "\u001b[0;31mTypeError\u001b[0m: can only concatenate str (not \"int\") to str"
     ]
    }
   ],
   "source": []
  }
 ],
 "metadata": {
  "kernelspec": {
   "display_name": "Python 3 (ipykernel)",
   "language": "python",
   "name": "python3"
  },
  "language_info": {
   "codemirror_mode": {
    "name": "ipython",
    "version": 3
   },
   "file_extension": ".py",
   "mimetype": "text/x-python",
   "name": "python",
   "nbconvert_exporter": "python",
   "pygments_lexer": "ipython3",
   "version": "3.9.0"
  }
 },
 "nbformat": 4,
 "nbformat_minor": 5
}
